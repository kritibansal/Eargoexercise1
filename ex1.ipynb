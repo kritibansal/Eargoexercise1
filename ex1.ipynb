{
 "cells": [
  {
   "cell_type": "code",
   "execution_count": 23,
   "metadata": {},
   "outputs": [
    {
     "name": "stdout",
     "output_type": "stream",
     "text": [
      "Input invalid\n",
      "the number of coins: 0\n",
      "quarters 0\n",
      "dimes 0\n",
      "nickel 0\n",
      "penny 0\n",
      "Cents is a unit value so decimal is not valid\n",
      "the number of coins: 2\n",
      "quarters 0\n",
      "dimes 0\n",
      "nickel 0\n",
      "penny 2\n",
      "the number of coins: 83\n",
      "quarters 3\n",
      "dimes 0\n",
      "nickel 1\n",
      "penny 3\n",
      "Cents is a unit value so decimal is not valid\n",
      "the number of coins: 8\n",
      "quarters 0\n",
      "dimes 0\n",
      "nickel 1\n",
      "penny 3\n",
      "the number of coins: 120\n",
      "quarters 4\n",
      "dimes 2\n",
      "nickel 0\n",
      "penny 0\n"
     ]
    }
   ],
   "source": [
    "#function to change coins denominations \n",
    "def coin_change(cents):  \n",
    "  if type(cents) is not int:     #condition to check if its decimal\n",
    "    cents = int(cents)\n",
    "    print('Cents is a unit value so decimal is not valid')\n",
    "  if cents<0:                  # condition to check if its negative\n",
    "    print ('Input invalid')\n",
    "  else:\n",
    "    #conditions to change to the denominations in cents \n",
    "    quarter = cents //25    \n",
    "    dime = (cents % 25)//10\n",
    "    nickel = cents % 25 % 10 // 5\n",
    "    penny = cents % 5\n",
    "    \n",
    "    print('the number of coins:', cents)\n",
    "    print ('quarters' , quarter)\n",
    "    print ('dimes' , dime)\n",
    "    print ('nickel' , nickel)\n",
    "    print ('penny' , penny)\n",
    "\n",
    "def test(cases):\n",
    "  for i in range(len(cases)):\n",
    "   coin_change(cases[i])\n",
    "\n",
    "test_cases = [-1, 0, 2.4, 83, 8.0, 120]\n",
    "test(test_cases)"
   ]
  },
  {
   "cell_type": "code",
   "execution_count": null,
   "metadata": {},
   "outputs": [],
   "source": []
  }
 ],
 "metadata": {
  "kernelspec": {
   "display_name": "Python 3",
   "language": "python",
   "name": "python3"
  },
  "language_info": {
   "codemirror_mode": {
    "name": "ipython",
    "version": 3
   },
   "file_extension": ".py",
   "mimetype": "text/x-python",
   "name": "python",
   "nbconvert_exporter": "python",
   "pygments_lexer": "ipython3",
   "version": "3.7.3"
  }
 },
 "nbformat": 4,
 "nbformat_minor": 2
}
